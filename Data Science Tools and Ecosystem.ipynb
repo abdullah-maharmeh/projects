{
 "cells": [
  {
   "cell_type": "markdown",
   "id": "5c825740",
   "metadata": {},
   "source": [
    "# Data Science Tools and Ecosystem"
   ]
  },
  {
   "cell_type": "markdown",
   "id": "f99c6312",
   "metadata": {},
   "source": [
    "In this notebook, Data Science Tools and Ecosystem are summarized."
   ]
  },
  {
   "cell_type": "markdown",
   "id": "33393878",
   "metadata": {},
   "source": [
    "**Objectives:**\n",
    "- List popular languages for Data Science\n",
    "- List of comon libraries used by Data Scientists\n",
    "- Table of development environment open source tools used in data science.\n",
    "- Arithmatic in python\n",
    "- minutes to hourse function in python\n",
    "\n"
   ]
  },
  {
   "cell_type": "markdown",
   "id": "3948f1ae",
   "metadata": {},
   "source": [
    "Some of the popular languages that Data Scientists use are:\n",
    "\n",
    "1. Python \n",
    "2. R \n",
    "3. SQl \n",
    "4. Julia"
   ]
  },
  {
   "cell_type": "markdown",
   "id": "3db7fe7c",
   "metadata": {},
   "source": [
    "Some of the commonly used libraries used by Data Scientists include:\n",
    "\n",
    "1. NumPy: NumPy is a Python library that provides support for large, multi-dimensional arrays and matrices, as well as a large collection of mathematical functions to operate on these arrays.\n",
    "\n",
    "2. Pandas: Pandas is a Python library for data manipulation and analysis. It provides data structures for efficiently storing and manipulating large datasets, as well as tools for reading and writing data in various formats.\n",
    "\n",
    "3. Matplotlib: Matplotlib is a Python library for creating visualizations, including line plots, scatter plots, bar plots, and histograms. It provides a high degree of control over the appearance of the plots, allowing users to customize almost every aspect of the visualization.\n",
    "\n",
    "4. Scikit-learn: Scikit-learn is a Python library for machine learning, providing a range of supervised and unsupervised learning algorithms, as well as tools for data preprocessing and model selection."
   ]
  },
  {
   "cell_type": "markdown",
   "id": "2033c6dd",
   "metadata": {},
   "source": [
    "| Data Science Tools |\n",
    "| ------------------ |\n",
    "| Jupyter Notebook   |\n",
    "| RStudio            |\n",
    "| PyCharm            |\n"
   ]
  },
  {
   "cell_type": "markdown",
   "id": "f16211c7",
   "metadata": {},
   "source": [
    "### Below are a few examples of evaluating arithmetic expressions in Pytho\n"
   ]
  },
  {
   "cell_type": "code",
   "execution_count": 1,
   "id": "c632e54d",
   "metadata": {},
   "outputs": [
    {
     "data": {
      "text/plain": [
       "17"
      ]
     },
     "execution_count": 1,
     "metadata": {},
     "output_type": "execute_result"
    }
   ],
   "source": [
    "# This a simple arithmetic expression to mutiply then add integers\n",
    "(3*4)+5"
   ]
  },
  {
   "cell_type": "code",
   "execution_count": 2,
   "id": "13f01bdd",
   "metadata": {},
   "outputs": [
    {
     "data": {
      "text/plain": [
       "3.3333333333333335"
      ]
     },
     "execution_count": 2,
     "metadata": {},
     "output_type": "execute_result"
    }
   ],
   "source": [
    "# s will convert 200 minutes to hours by diving by 60.\n",
    "def Tohour(minutes):\n",
    "    return (minutes/60)\n",
    "Tohour(200)\n",
    "    \n",
    "    "
   ]
  },
  {
   "cell_type": "markdown",
   "id": "8dd23145",
   "metadata": {},
   "source": [
    "## Author \n",
    "Abdullah Almaharmeh"
   ]
  }
 ],
 "metadata": {
  "kernelspec": {
   "display_name": "Python 3 (ipykernel)",
   "language": "python",
   "name": "python3"
  },
  "language_info": {
   "codemirror_mode": {
    "name": "ipython",
    "version": 3
   },
   "file_extension": ".py",
   "mimetype": "text/x-python",
   "name": "python",
   "nbconvert_exporter": "python",
   "pygments_lexer": "ipython3",
   "version": "3.9.12"
  }
 },
 "nbformat": 4,
 "nbformat_minor": 5
}
